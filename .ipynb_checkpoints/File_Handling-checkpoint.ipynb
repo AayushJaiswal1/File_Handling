{
  "nbformat": 4,
  "nbformat_minor": 0,
  "metadata": {
    "colab": {
      "provenance": []
    },
    "kernelspec": {
      "name": "python3",
      "display_name": "Python 3"
    },
    "language_info": {
      "name": "python"
    }
  },
  "cells": [
    {
      "cell_type": "code",
      "execution_count": 46,
      "metadata": {
        "id": "ndjfgrmiBlef"
      },
      "outputs": [],
      "source": [
        "#1 Create a new text file and write a few lines of text into it\n",
        "with open(\"abc.txt\", \"w\") as file:\n",
        "    file.write(\"Hello,\\n\")\n",
        "    file.write(\"How are you?\\n\")\n",
        "    file.write(\"I am fine\")\n"
      ]
    },
    {
      "cell_type": "code",
      "source": [
        "#2 Open and read the contents of the file you just created\n",
        "with open(\"abc.txt\", \"r\") as file:\n",
        "    content = file.read()\n",
        "    print(content)"
      ],
      "metadata": {
        "colab": {
          "base_uri": "https://localhost:8080/"
        },
        "id": "GQ9o8d8SKfV1",
        "outputId": "b4d75cf0-e48d-4227-a232-83e2eed34778"
      },
      "execution_count": 47,
      "outputs": [
        {
          "output_type": "stream",
          "name": "stdout",
          "text": [
            "Hello,\n",
            "How are you?\n",
            "I am fine\n"
          ]
        }
      ]
    },
    {
      "cell_type": "code",
      "source": [
        "#3 Add additional text to the existing file without deleting the current content\n",
        "with open(\"abc.txt\", \"a\") as file:\n",
        "    file.write(\"\\nI am also fine\")"
      ],
      "metadata": {
        "id": "Kn07w507KmOG"
      },
      "execution_count": 48,
      "outputs": []
    },
    {
      "cell_type": "code",
      "source": [
        "#4 Read and print each line from the file one by one:\n",
        "with open(\"abc.txt\", \"r\") as file:\n",
        "    for line in file:\n",
        "        print(line, end=\"\")"
      ],
      "metadata": {
        "colab": {
          "base_uri": "https://localhost:8080/"
        },
        "id": "3tKOMl0hKzgO",
        "outputId": "0576ac41-4267-4518-db73-5c70aa23f0fc"
      },
      "execution_count": 49,
      "outputs": [
        {
          "output_type": "stream",
          "name": "stdout",
          "text": [
            "Hello,\n",
            "How are you?\n",
            "I am fine\n",
            "I am also fine"
          ]
        }
      ]
    },
    {
      "cell_type": "code",
      "source": [
        "#5 Write the contents of a list to a file, with each item on a new line:\n",
        "\n",
        "my_list = [\"Apple\", \"Banana\", \"Mango\"]\n",
        "with open(\"list.txt\", \"w\") as file:\n",
        "    for item in my_list:\n",
        "        file.write(item + \"\\n\")\n"
      ],
      "metadata": {
        "id": "zyQQAJ4FLWw9"
      },
      "execution_count": 50,
      "outputs": []
    },
    {
      "cell_type": "code",
      "source": [
        "#6 Read the file content into a list, where each line is an element of the list:\n",
        "with open(\"list.txt\", \"r\") as file:\n",
        "    lines = file.readlines()\n",
        "print(lines)"
      ],
      "metadata": {
        "colab": {
          "base_uri": "https://localhost:8080/"
        },
        "id": "YVO1Ma7iLjVt",
        "outputId": "bfb0dd92-859e-4b61-9b55-a855fab81c10"
      },
      "execution_count": 51,
      "outputs": [
        {
          "output_type": "stream",
          "name": "stdout",
          "text": [
            "['Apple\\n', 'Banana\\n', 'Mango\\n']\n"
          ]
        }
      ]
    },
    {
      "cell_type": "code",
      "source": [
        "#7 Count the total number of words in the file:\n",
        "with open(\"abc.txt\", \"r\") as file:\n",
        "    content = file.read()\n",
        "    words = content.split()\n",
        "    word_count = len(words)\n",
        "print(word_count)"
      ],
      "metadata": {
        "colab": {
          "base_uri": "https://localhost:8080/"
        },
        "id": "mwrqpBIrLz8u",
        "outputId": "296b2355-3adf-4d85-84e4-56a4bbe63994"
      },
      "execution_count": 52,
      "outputs": [
        {
          "output_type": "stream",
          "name": "stdout",
          "text": [
            "11\n"
          ]
        }
      ]
    },
    {
      "cell_type": "code",
      "source": [
        "#8 Copy the contents of one file to another file:\n",
        "with open(\"abc.txt\", \"r\") as source_file:\n",
        "    content = source_file.read()\n",
        "with open(\"copy.txt\", \"w\") as dest_file:\n",
        "    dest_file.write(content)"
      ],
      "metadata": {
        "id": "UVFz3mcIOd21"
      },
      "execution_count": 54,
      "outputs": []
    },
    {
      "cell_type": "code",
      "source": [
        "#9 Check if a file exists before attempting to read it:\n",
        "import os\n",
        "if os.path.exists(\"abc.txt\"):\n",
        "    with open(\"abc.txt\", \"r\") as file:\n",
        "        content = file.read()\n",
        "        print(content)\n",
        "else:\n",
        "    print(\"File does not exist.\")"
      ],
      "metadata": {
        "colab": {
          "base_uri": "https://localhost:8080/"
        },
        "id": "DKhZFuFdOt31",
        "outputId": "545a5e5e-78b2-4a83-91ea-dc46f669f221"
      },
      "execution_count": 53,
      "outputs": [
        {
          "output_type": "stream",
          "name": "stdout",
          "text": [
            "Hello,\n",
            "How are you?\n",
            "I am fine\n",
            "I am also fine\n"
          ]
        }
      ]
    },
    {
      "cell_type": "code",
      "source": [
        "#10 Delete a file using Python:\n",
        "import os\n",
        "if os.path.exists(\"abc.txt\"):\n",
        "    os.remove(\"abc.txt\")\n",
        "    print(\"File deleted successfully.\")\n",
        "else:\n",
        "    print(\"File does not exist.\")"
      ],
      "metadata": {
        "colab": {
          "base_uri": "https://localhost:8080/"
        },
        "id": "O88eNuDDPNgV",
        "outputId": "f713420e-883c-4fc7-f4fa-c01e237fd618"
      },
      "execution_count": 55,
      "outputs": [
        {
          "output_type": "stream",
          "name": "stdout",
          "text": [
            "File deleted successfully.\n"
          ]
        }
      ]
    }
  ]
}